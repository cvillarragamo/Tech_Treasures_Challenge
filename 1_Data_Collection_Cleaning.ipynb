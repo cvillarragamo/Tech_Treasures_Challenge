{
 "cells": [
  {
   "cell_type": "markdown",
   "metadata": {},
   "source": [
    "## Import libraries"
   ]
  },
  {
   "cell_type": "code",
   "execution_count": 1,
   "metadata": {},
   "outputs": [],
   "source": [
    "import warnings\n",
    "warnings.filterwarnings('ignore')\n",
    "\n",
    "# Import functions and reload the module after making changes\n",
    "from scripts import utilities\n",
    "import importlib\n",
    "importlib.reload(utilities)\n",
    "from scripts.utilities import read_shapefile, check_transform_crs\n",
    "\n",
    "\n",
    "#General libraries\n",
    "import pandas as pd\n",
    "import geopandas as gdp\n",
    "\n",
    "#Plotting\n",
    "import matplotlib.pyplot as plt\n",
    "from ipywidgets import interact"
   ]
  },
  {
   "cell_type": "markdown",
   "metadata": {},
   "source": [
    "## Basic exploration of datasets"
   ]
  },
  {
   "cell_type": "code",
   "execution_count": 2,
   "metadata": {},
   "outputs": [
    {
     "name": "stdout",
     "output_type": "stream",
     "text": [
      "Shapefile loaded with 270 records\n",
      "Columns: 21\n",
      "Geometry type: ['Point']\n",
      "Transforming from EPSG:3978 to EPSG:4269.\n"
     ]
    },
    {
     "data": {
      "text/html": [
       "<div>\n",
       "<style scoped>\n",
       "    .dataframe tbody tr th:only-of-type {\n",
       "        vertical-align: middle;\n",
       "    }\n",
       "\n",
       "    .dataframe tbody tr th {\n",
       "        vertical-align: top;\n",
       "    }\n",
       "\n",
       "    .dataframe thead th {\n",
       "        text-align: right;\n",
       "    }\n",
       "</style>\n",
       "<table border=\"1\" class=\"dataframe\">\n",
       "  <thead>\n",
       "    <tr style=\"text-align: right;\">\n",
       "      <th></th>\n",
       "      <th>OBJECTID</th>\n",
       "      <th>OperationG</th>\n",
       "      <th>Operatio_1</th>\n",
       "      <th>PropertyNa</th>\n",
       "      <th>Property_1</th>\n",
       "      <th>OperatorOw</th>\n",
       "      <th>Operator_1</th>\n",
       "      <th>ProvincesE</th>\n",
       "      <th>ProvincesF</th>\n",
       "      <th>Commoditie</th>\n",
       "      <th>...</th>\n",
       "      <th>Developmen</th>\n",
       "      <th>Developm_1</th>\n",
       "      <th>ActivitySt</th>\n",
       "      <th>Activity_1</th>\n",
       "      <th>Latitude</th>\n",
       "      <th>Longitude</th>\n",
       "      <th>Website</th>\n",
       "      <th>ID</th>\n",
       "      <th>EA_Status</th>\n",
       "      <th>geometry</th>\n",
       "    </tr>\n",
       "  </thead>\n",
       "  <tbody>\n",
       "    <tr>\n",
       "      <th>0</th>\n",
       "      <td>1</td>\n",
       "      <td>Mine</td>\n",
       "      <td>Mine</td>\n",
       "      <td>LaRonde</td>\n",
       "      <td>LaRonde</td>\n",
       "      <td>Agnico Eagle Mines Limited</td>\n",
       "      <td>Mines Agnico Eagle Limitée</td>\n",
       "      <td>Quebec</td>\n",
       "      <td>Québec</td>\n",
       "      <td>Gold, zinc, copper, silver, cadmium</td>\n",
       "      <td>...</td>\n",
       "      <td>Mine</td>\n",
       "      <td>Mine</td>\n",
       "      <td>Active</td>\n",
       "      <td>En activité</td>\n",
       "      <td>48.2516</td>\n",
       "      <td>-78.428</td>\n",
       "      <td>https://agnicoeagle.com</td>\n",
       "      <td>1</td>\n",
       "      <td>None</td>\n",
       "      <td>POINT (-78.42800 48.25160)</td>\n",
       "    </tr>\n",
       "    <tr>\n",
       "      <th>1</th>\n",
       "      <td>2</td>\n",
       "      <td>Mine</td>\n",
       "      <td>Mine</td>\n",
       "      <td>Mount Brussilof</td>\n",
       "      <td>Mount Brussilof</td>\n",
       "      <td>Baymag Inc.</td>\n",
       "      <td>Baymag Inc.</td>\n",
       "      <td>British Columbia</td>\n",
       "      <td>Colombie-Britannique</td>\n",
       "      <td>Magnesite (fused), magnesia (products)</td>\n",
       "      <td>...</td>\n",
       "      <td>Mine</td>\n",
       "      <td>Mine</td>\n",
       "      <td>Active</td>\n",
       "      <td>En activité</td>\n",
       "      <td>50.7887</td>\n",
       "      <td>-115.683</td>\n",
       "      <td>https://baymag.com</td>\n",
       "      <td>2</td>\n",
       "      <td>None</td>\n",
       "      <td>POINT (-115.68300 50.78870)</td>\n",
       "    </tr>\n",
       "  </tbody>\n",
       "</table>\n",
       "<p>2 rows × 21 columns</p>\n",
       "</div>"
      ],
      "text/plain": [
       "   OBJECTID OperationG Operatio_1       PropertyNa       Property_1  \\\n",
       "0         1       Mine       Mine          LaRonde          LaRonde   \n",
       "1         2       Mine       Mine  Mount Brussilof  Mount Brussilof   \n",
       "\n",
       "                   OperatorOw                  Operator_1        ProvincesE  \\\n",
       "0  Agnico Eagle Mines Limited  Mines Agnico Eagle Limitée            Quebec   \n",
       "1                 Baymag Inc.                 Baymag Inc.  British Columbia   \n",
       "\n",
       "             ProvincesF                              Commoditie  ...  \\\n",
       "0                Québec     Gold, zinc, copper, silver, cadmium  ...   \n",
       "1  Colombie-Britannique  Magnesite (fused), magnesia (products)  ...   \n",
       "\n",
       "  Developmen Developm_1 ActivitySt   Activity_1 Latitude  Longitude  \\\n",
       "0       Mine       Mine     Active  En activité  48.2516    -78.428   \n",
       "1       Mine       Mine     Active  En activité  50.7887   -115.683   \n",
       "\n",
       "                   Website ID EA_Status                     geometry  \n",
       "0  https://agnicoeagle.com  1      None   POINT (-78.42800 48.25160)  \n",
       "1       https://baymag.com  2      None  POINT (-115.68300 50.78870)  \n",
       "\n",
       "[2 rows x 21 columns]"
      ]
     },
     "execution_count": 2,
     "metadata": {},
     "output_type": "execute_result"
    }
   ],
   "source": [
    "path = \"datasets\\shp\\critical_minerals.shp\"\n",
    "CM = read_shapefile(path)\n",
    "CM=check_transform_crs(CM)\n",
    "CM.head(2)"
   ]
  },
  {
   "cell_type": "markdown",
   "metadata": {},
   "source": [
    "### Admin boundaries"
   ]
  },
  {
   "cell_type": "code",
   "execution_count": 53,
   "metadata": {},
   "outputs": [
    {
     "name": "stdout",
     "output_type": "stream",
     "text": [
      "Shapefile loaded with 13 records\n",
      "Columns: 7\n",
      "Geometry type: ['MultiPolygon' 'Polygon']\n"
     ]
    },
    {
     "data": {
      "text/html": [
       "<div>\n",
       "<style scoped>\n",
       "    .dataframe tbody tr th:only-of-type {\n",
       "        vertical-align: middle;\n",
       "    }\n",
       "\n",
       "    .dataframe tbody tr th {\n",
       "        vertical-align: top;\n",
       "    }\n",
       "\n",
       "    .dataframe thead th {\n",
       "        text-align: right;\n",
       "    }\n",
       "</style>\n",
       "<table border=\"1\" class=\"dataframe\">\n",
       "  <thead>\n",
       "    <tr style=\"text-align: right;\">\n",
       "      <th></th>\n",
       "      <th>PRUID</th>\n",
       "      <th>PRNAME</th>\n",
       "      <th>PRENAME</th>\n",
       "      <th>PRFNAME</th>\n",
       "      <th>PREABBR</th>\n",
       "      <th>PRFABBR</th>\n",
       "      <th>geometry</th>\n",
       "    </tr>\n",
       "  </thead>\n",
       "  <tbody>\n",
       "    <tr>\n",
       "      <th>0</th>\n",
       "      <td>59</td>\n",
       "      <td>British Columbia / Colombie-Britannique</td>\n",
       "      <td>British Columbia</td>\n",
       "      <td>Colombie-Britannique</td>\n",
       "      <td>B.C.</td>\n",
       "      <td>C.-B.</td>\n",
       "      <td>MULTIPOLYGON (((-123.53977 48.31735, -123.5397...</td>\n",
       "    </tr>\n",
       "    <tr>\n",
       "      <th>1</th>\n",
       "      <td>24</td>\n",
       "      <td>Quebec / Québec</td>\n",
       "      <td>Quebec</td>\n",
       "      <td>Québec</td>\n",
       "      <td>Que.</td>\n",
       "      <td>Qc</td>\n",
       "      <td>MULTIPOLYGON (((-74.63814 44.99984, -74.63859 ...</td>\n",
       "    </tr>\n",
       "    <tr>\n",
       "      <th>2</th>\n",
       "      <td>62</td>\n",
       "      <td>Nunavut</td>\n",
       "      <td>Nunavut</td>\n",
       "      <td>Nunavut</td>\n",
       "      <td>Nvt.</td>\n",
       "      <td>Nt</td>\n",
       "      <td>MULTIPOLYGON (((-79.99352 51.27725, -79.99475 ...</td>\n",
       "    </tr>\n",
       "    <tr>\n",
       "      <th>3</th>\n",
       "      <td>11</td>\n",
       "      <td>Prince Edward Island / Île-du-Prince-Édouard</td>\n",
       "      <td>Prince Edward Island</td>\n",
       "      <td>Île-du-Prince-Édouard</td>\n",
       "      <td>P.E.I.</td>\n",
       "      <td>Î.-P.-É.</td>\n",
       "      <td>MULTIPOLYGON (((-62.49302 46.02515, -62.49337 ...</td>\n",
       "    </tr>\n",
       "    <tr>\n",
       "      <th>4</th>\n",
       "      <td>47</td>\n",
       "      <td>Saskatchewan</td>\n",
       "      <td>Saskatchewan</td>\n",
       "      <td>Saskatchewan</td>\n",
       "      <td>Sask.</td>\n",
       "      <td>Sask.</td>\n",
       "      <td>POLYGON ((-102.00000 60.00000, -102.00000 59.9...</td>\n",
       "    </tr>\n",
       "    <tr>\n",
       "      <th>5</th>\n",
       "      <td>60</td>\n",
       "      <td>Yukon</td>\n",
       "      <td>Yukon</td>\n",
       "      <td>Yukon</td>\n",
       "      <td>Y.T.</td>\n",
       "      <td>Yn</td>\n",
       "      <td>MULTIPOLYGON (((-136.47224 68.89388, -136.4705...</td>\n",
       "    </tr>\n",
       "    <tr>\n",
       "      <th>6</th>\n",
       "      <td>46</td>\n",
       "      <td>Manitoba</td>\n",
       "      <td>Manitoba</td>\n",
       "      <td>Manitoba</td>\n",
       "      <td>Man.</td>\n",
       "      <td>Man.</td>\n",
       "      <td>MULTIPOLYGON (((-95.15588 49.59155, -95.15657 ...</td>\n",
       "    </tr>\n",
       "    <tr>\n",
       "      <th>7</th>\n",
       "      <td>35</td>\n",
       "      <td>Ontario</td>\n",
       "      <td>Ontario</td>\n",
       "      <td>Ontario</td>\n",
       "      <td>Ont.</td>\n",
       "      <td>Ont.</td>\n",
       "      <td>MULTIPOLYGON (((-82.68871 41.68453, -82.68631 ...</td>\n",
       "    </tr>\n",
       "    <tr>\n",
       "      <th>8</th>\n",
       "      <td>13</td>\n",
       "      <td>New Brunswick / Nouveau-Brunswick</td>\n",
       "      <td>New Brunswick</td>\n",
       "      <td>Nouveau-Brunswick</td>\n",
       "      <td>N.B.</td>\n",
       "      <td>N.-B.</td>\n",
       "      <td>MULTIPOLYGON (((-66.76541 44.58377, -66.76462 ...</td>\n",
       "    </tr>\n",
       "    <tr>\n",
       "      <th>9</th>\n",
       "      <td>61</td>\n",
       "      <td>Northwest Territories / Territoires du Nord-Ouest</td>\n",
       "      <td>Northwest Territories</td>\n",
       "      <td>Territoires du Nord-Ouest</td>\n",
       "      <td>N.W.T.</td>\n",
       "      <td>T.N.-O.</td>\n",
       "      <td>MULTIPOLYGON (((-133.43943 68.78677, -133.4430...</td>\n",
       "    </tr>\n",
       "    <tr>\n",
       "      <th>10</th>\n",
       "      <td>48</td>\n",
       "      <td>Alberta</td>\n",
       "      <td>Alberta</td>\n",
       "      <td>Alberta</td>\n",
       "      <td>Alta.</td>\n",
       "      <td>Alb.</td>\n",
       "      <td>POLYGON ((-110.00000 60.00000, -110.00000 59.9...</td>\n",
       "    </tr>\n",
       "    <tr>\n",
       "      <th>11</th>\n",
       "      <td>10</td>\n",
       "      <td>Newfoundland and Labrador / Terre-Neuve-et-Lab...</td>\n",
       "      <td>Newfoundland and Labrador</td>\n",
       "      <td>Terre-Neuve-et-Labrador</td>\n",
       "      <td>N.L.</td>\n",
       "      <td>T.-N.-L.</td>\n",
       "      <td>MULTIPOLYGON (((-55.81707 46.85284, -55.81532 ...</td>\n",
       "    </tr>\n",
       "    <tr>\n",
       "      <th>12</th>\n",
       "      <td>12</td>\n",
       "      <td>Nova Scotia / Nouvelle-Écosse</td>\n",
       "      <td>Nova Scotia</td>\n",
       "      <td>Nouvelle-Écosse</td>\n",
       "      <td>N.S.</td>\n",
       "      <td>N.-É.</td>\n",
       "      <td>MULTIPOLYGON (((-65.64770 43.40798, -65.64771 ...</td>\n",
       "    </tr>\n",
       "  </tbody>\n",
       "</table>\n",
       "</div>"
      ],
      "text/plain": [
       "   PRUID                                             PRNAME  \\\n",
       "0     59            British Columbia / Colombie-Britannique   \n",
       "1     24                                    Quebec / Québec   \n",
       "2     62                                            Nunavut   \n",
       "3     11       Prince Edward Island / Île-du-Prince-Édouard   \n",
       "4     47                                       Saskatchewan   \n",
       "5     60                                              Yukon   \n",
       "6     46                                           Manitoba   \n",
       "7     35                                            Ontario   \n",
       "8     13                  New Brunswick / Nouveau-Brunswick   \n",
       "9     61  Northwest Territories / Territoires du Nord-Ouest   \n",
       "10    48                                            Alberta   \n",
       "11    10  Newfoundland and Labrador / Terre-Neuve-et-Lab...   \n",
       "12    12                      Nova Scotia / Nouvelle-Écosse   \n",
       "\n",
       "                      PRENAME                    PRFNAME PREABBR   PRFABBR  \\\n",
       "0            British Columbia       Colombie-Britannique    B.C.     C.-B.   \n",
       "1                      Quebec                     Québec    Que.        Qc   \n",
       "2                     Nunavut                    Nunavut    Nvt.        Nt   \n",
       "3        Prince Edward Island      Île-du-Prince-Édouard  P.E.I.  Î.-P.-É.   \n",
       "4                Saskatchewan               Saskatchewan   Sask.     Sask.   \n",
       "5                       Yukon                      Yukon    Y.T.        Yn   \n",
       "6                    Manitoba                   Manitoba    Man.      Man.   \n",
       "7                     Ontario                    Ontario    Ont.      Ont.   \n",
       "8               New Brunswick          Nouveau-Brunswick    N.B.     N.-B.   \n",
       "9       Northwest Territories  Territoires du Nord-Ouest  N.W.T.   T.N.-O.   \n",
       "10                    Alberta                    Alberta   Alta.      Alb.   \n",
       "11  Newfoundland and Labrador    Terre-Neuve-et-Labrador    N.L.  T.-N.-L.   \n",
       "12                Nova Scotia            Nouvelle-Écosse    N.S.     N.-É.   \n",
       "\n",
       "                                             geometry  \n",
       "0   MULTIPOLYGON (((-123.53977 48.31735, -123.5397...  \n",
       "1   MULTIPOLYGON (((-74.63814 44.99984, -74.63859 ...  \n",
       "2   MULTIPOLYGON (((-79.99352 51.27725, -79.99475 ...  \n",
       "3   MULTIPOLYGON (((-62.49302 46.02515, -62.49337 ...  \n",
       "4   POLYGON ((-102.00000 60.00000, -102.00000 59.9...  \n",
       "5   MULTIPOLYGON (((-136.47224 68.89388, -136.4705...  \n",
       "6   MULTIPOLYGON (((-95.15588 49.59155, -95.15657 ...  \n",
       "7   MULTIPOLYGON (((-82.68871 41.68453, -82.68631 ...  \n",
       "8   MULTIPOLYGON (((-66.76541 44.58377, -66.76462 ...  \n",
       "9   MULTIPOLYGON (((-133.43943 68.78677, -133.4430...  \n",
       "10  POLYGON ((-110.00000 60.00000, -110.00000 59.9...  \n",
       "11  MULTIPOLYGON (((-55.81707 46.85284, -55.81532 ...  \n",
       "12  MULTIPOLYGON (((-65.64770 43.40798, -65.64771 ...  "
      ]
     },
     "execution_count": 53,
     "metadata": {},
     "output_type": "execute_result"
    }
   ],
   "source": [
    "path2 = r'datasets\\shp\\admin_boundaries.shp'\n",
    "admin = read_shapefile(path2)"
   ]
  },
  {
   "cell_type": "code",
   "execution_count": 54,
   "metadata": {},
   "outputs": [
    {
     "data": {
      "text/plain": [
       "<Axes: >"
      ]
     },
     "execution_count": 54,
     "metadata": {},
     "output_type": "execute_result"
    },
    {
     "data": {
      "image/png": "[encoded data removed]",
      "text/plain": [
       "<Figure size 640x480 with 1 Axes>"
      ]
     },
     "metadata": {},
     "output_type": "display_data"
    }
   ],
   "source": [
    "target_province=admin[admin['PRENAME'].isin(['British Columbia','Nunavut','Ontario','Quebec','Yukon'])]\n",
    "target_province.plot()"
   ]
  },
  {
   "cell_type": "markdown",
   "metadata": {},
   "source": [
    "### Geoquem\n",
    "\n",
    "Esperare a ver que dicen el paper sobre cual es la forma de explorar CM en sedimentos, son >65K muestras es inviable ahora."
   ]
  },
  {
   "cell_type": "code",
   "execution_count": 34,
   "metadata": {},
   "outputs": [
    {
     "data": {
      "text/html": [
       "<div>\n",
       "<style scoped>\n",
       "    .dataframe tbody tr th:only-of-type {\n",
       "        vertical-align: middle;\n",
       "    }\n",
       "\n",
       "    .dataframe tbody tr th {\n",
       "        vertical-align: top;\n",
       "    }\n",
       "\n",
       "    .dataframe thead th {\n",
       "        text-align: right;\n",
       "    }\n",
       "</style>\n",
       "<table border=\"1\" class=\"dataframe\">\n",
       "  <thead>\n",
       "    <tr style=\"text-align: right;\">\n",
       "      <th></th>\n",
       "      <th>MASTERID</th>\n",
       "      <th>ORIGINAL_REP</th>\n",
       "      <th>UPDATE_REP1</th>\n",
       "      <th>UPDATE_REP2</th>\n",
       "      <th>UPDATE_REP3</th>\n",
       "      <th>NAME</th>\n",
       "      <th>TYPE2</th>\n",
       "      <th>MAP250</th>\n",
       "      <th>MAP50</th>\n",
       "      <th>MAP20</th>\n",
       "      <th>...</th>\n",
       "      <th>W_INA_PPM</th>\n",
       "      <th>Yb_INA_PPM</th>\n",
       "      <th>Zn_INA_PPM</th>\n",
       "      <th>Zr_INA_PPM</th>\n",
       "      <th>WT_INA_g</th>\n",
       "      <th>pH</th>\n",
       "      <th>Uw_LIF_PPB</th>\n",
       "      <th>Fw_ISE_PPB</th>\n",
       "      <th>SO4_TRB_PPM</th>\n",
       "      <th>Cnd_uS/cm</th>\n",
       "    </tr>\n",
       "  </thead>\n",
       "  <tbody>\n",
       "    <tr>\n",
       "      <th>0</th>\n",
       "      <td>ID082E091379</td>\n",
       "      <td>GBC 2010-13</td>\n",
       "      <td>NaN</td>\n",
       "      <td>NaN</td>\n",
       "      <td>NaN</td>\n",
       "      <td>QUEST SOUTH</td>\n",
       "      <td>STRM</td>\n",
       "      <td>082E</td>\n",
       "      <td>082E13</td>\n",
       "      <td>082E.091</td>\n",
       "      <td>...</td>\n",
       "      <td>-1.0</td>\n",
       "      <td>-2.0</td>\n",
       "      <td>NaN</td>\n",
       "      <td>220.0</td>\n",
       "      <td>44.58</td>\n",
       "      <td>7.80</td>\n",
       "      <td>NaN</td>\n",
       "      <td>19.0</td>\n",
       "      <td>NaN</td>\n",
       "      <td>17.0</td>\n",
       "    </tr>\n",
       "    <tr>\n",
       "      <th>1</th>\n",
       "      <td>ID082E091380</td>\n",
       "      <td>GBC 2010-13</td>\n",
       "      <td>NaN</td>\n",
       "      <td>NaN</td>\n",
       "      <td>NaN</td>\n",
       "      <td>QUEST SOUTH</td>\n",
       "      <td>STRM</td>\n",
       "      <td>082E</td>\n",
       "      <td>082E13</td>\n",
       "      <td>082E.091</td>\n",
       "      <td>...</td>\n",
       "      <td>-1.0</td>\n",
       "      <td>-2.0</td>\n",
       "      <td>NaN</td>\n",
       "      <td>-200.0</td>\n",
       "      <td>39.18</td>\n",
       "      <td>7.58</td>\n",
       "      <td>NaN</td>\n",
       "      <td>19.0</td>\n",
       "      <td>NaN</td>\n",
       "      <td>18.0</td>\n",
       "    </tr>\n",
       "  </tbody>\n",
       "</table>\n",
       "<p>2 rows × 193 columns</p>\n",
       "</div>"
      ],
      "text/plain": [
       "       MASTERID ORIGINAL_REP UPDATE_REP1 UPDATE_REP2 UPDATE_REP3         NAME  \\\n",
       "0  ID082E091379  GBC 2010-13         NaN         NaN         NaN  QUEST SOUTH   \n",
       "1  ID082E091380  GBC 2010-13         NaN         NaN         NaN  QUEST SOUTH   \n",
       "\n",
       "  TYPE2 MAP250   MAP50     MAP20  ...  W_INA_PPM Yb_INA_PPM  Zn_INA_PPM  \\\n",
       "0  STRM   082E  082E13  082E.091  ...       -1.0       -2.0         NaN   \n",
       "1  STRM   082E  082E13  082E.091  ...       -1.0       -2.0         NaN   \n",
       "\n",
       "   Zr_INA_PPM  WT_INA_g    pH  Uw_LIF_PPB  Fw_ISE_PPB  SO4_TRB_PPM  Cnd_uS/cm  \n",
       "0       220.0     44.58  7.80         NaN        19.0          NaN       17.0  \n",
       "1      -200.0     39.18  7.58         NaN        19.0          NaN       18.0  \n",
       "\n",
       "[2 rows x 193 columns]"
      ]
     },
     "execution_count": 34,
     "metadata": {},
     "output_type": "execute_result"
    }
   ],
   "source": [
    "# geoquem=pd.read_excel(r'datasets\\rgs2020_data.xlsx')\n",
    "# geoquem.head(2)"
   ]
  },
  {
   "cell_type": "code",
   "execution_count": 57,
   "metadata": {},
   "outputs": [
    {
     "data": {
      "text/plain": [
       "<Axes: >"
      ]
     },
     "execution_count": 57,
     "metadata": {},
     "output_type": "execute_result"
    },
    {
     "data": {
      "image/png": "[encoded data removed]",
      "text/plain": [
       "<Figure size 640x480 with 1 Axes>"
      ]
     },
     "metadata": {},
     "output_type": "display_data"
    }
   ],
   "source": [
    "# ## Converting into GeoDataframe\n",
    "# from shapely.geometry import Point\n",
    "# geometry = [Point(xy) for xy in zip(geoquem['LONG'], geoquem['LAT'])]\n",
    "# geoquem_geo = gdp.GeoDataFrame(geoquem, geometry=geometry)\n",
    "# geoquem_geo.set_crs(epsg=4326, inplace=True)"
   ]
  },
  {
   "cell_type": "markdown",
   "metadata": {},
   "source": [
    "#### Filtered data"
   ]
  },
  {
   "cell_type": "code",
   "execution_count": 60,
   "metadata": {},
   "outputs": [],
   "source": [
    "# target_geoquem = geoquem_geo[geoquem_geo.within(target_province.unary_union)]\n",
    "# # target_geoquem.plot()"
   ]
  },
  {
   "cell_type": "markdown",
   "metadata": {},
   "source": [
    "## British Columbia"
   ]
  },
  {
   "cell_type": "code",
   "execution_count": 3,
   "metadata": {},
   "outputs": [
    {
     "name": "stdout",
     "output_type": "stream",
     "text": [
      "Shapefile loaded with 35424 records\n",
      "Columns: 28\n",
      "Geometry type: ['Polygon']\n",
      "CRS is already correct.\n"
     ]
    }
   ],
   "source": [
    "bc= read_shapefile('datasets\\shp\\BC_bedrock_ll83.shp')\n",
    "bc=check_transform_crs(bc)"
   ]
  },
  {
   "cell_type": "markdown",
   "metadata": {},
   "source": [
    "Simplyfing map by rock_class  + CM within BC province"
   ]
  },
  {
   "cell_type": "code",
   "execution_count": 4,
   "metadata": {},
   "outputs": [],
   "source": [
    "bc_rocks=bc.dissolve(by='rock_class')\n",
    "bc_rocks.reset_index(inplace=True) \n",
    "#Intersect CM points with BC polygons\n",
    "bc_cm=gdp.sjoin(CM,bc_rocks, how='inner', op='within')"
   ]
  },
  {
   "cell_type": "markdown",
   "metadata": {},
   "source": [
    "### Interactivce map"
   ]
  },
  {
   "cell_type": "code",
   "execution_count": 5,
   "metadata": {},
   "outputs": [
    {
     "data": {
      "application/vnd.jupyter.widget-view+json": {
       "model_id": "c52671b29921402ab495a132b3ffcf7a",
       "version_major": 2,
       "version_minor": 0
      },
      "text/plain": [
       "interactive(children=(Dropdown(description='column', options=('Magnesite (fused), magnesia (products)', 'Coppe…"
      ]
     },
     "metadata": {},
     "output_type": "display_data"
    }
   ],
   "source": [
    "##Interactive map targeting CM column \n",
    "column_values = bc_cm['Commoditie'].unique()\n",
    "\n",
    "\n",
    "@interact(column=column_values)\n",
    "def show_map(column):\n",
    "\n",
    "    fig, ax = plt.subplots(figsize=(10,10))\n",
    "    bc_rocks.plot(ax=ax, column='rock_class', legend=True, cmap='viridis')\n",
    "    \n",
    "    #Filtering by operation value\n",
    "    data_filtered = bc_cm[bc_cm['Commoditie'] == column]\n",
    "    data_filtered.plot(ax=ax, color='red', marker='o', markersize=7)\n",
    "    # bc_cm.plot(ax=ax, column ='OperationG',color ='red', marker = 'o', markersize = 7)\n",
    "    \n",
    "    plt.title('BC simplyfied map by rock class')\n",
    "    plt.show()"
   ]
  },
  {
   "cell_type": "code",
   "execution_count": 7,
   "metadata": {},
   "outputs": [
    {
     "data": {
      "text/plain": [
       "Commoditie\n",
       "Copper, gold, silver                                                                                      8\n",
       "Gold, copper, silver                                                                                      3\n",
       "Gold, copper                                                                                              2\n",
       "Magnesium                                                                                                 2\n",
       "Molybdenum                                                                                                2\n",
       "Gold, lead, silver, zinc                                                                                  1\n",
       "Zinc, copper, silver, gold, lead                                                                          1\n",
       "Copper, gold, molybdenum, silver                                                                          1\n",
       "Copper, molybdenum, gold, silver                                                                          1\n",
       "Copper, gold, molybdenum                                                                                  1\n",
       "Copper, zinc, silver, gold, lead                                                                          1\n",
       "Gold, copper, silver, molybdenum                                                                          1\n",
       "Gold, silver, copper, lead                                                                                1\n",
       "Gold, copper, silver, iron ore                                                                            1\n",
       "Nickel, cobalt, platinum, palladium                                                                       1\n",
       "Copper, molybdenum                                                                                        1\n",
       "Copper, gold, molybdenum, rhenium                                                                         1\n",
       "Magnesite (fused), magnesia (products)                                                                    1\n",
       "Gold, Silver, copper, lead, zinc                                                                          1\n",
       "Copper, Molybdenum, Gold, Silver                                                                          1\n",
       "Gold, silver, tellurium, copper, zinc, lead                                                               1\n",
       "Nickel, cobalt                                                                                            1\n",
       "Molybdenum, tungsten                                                                                      1\n",
       "Tantalum, niobium                                                                                         1\n",
       "Molybdenum, silver, lead                                                                                  1\n",
       "Niobium                                                                                                   1\n",
       "Zinc, lead, silver                                                                                        1\n",
       "Zinc, lead, bismuth, cadmium, indium, germanium, precious metals, liquid sulfur dioxide, sulfuric acid    1\n",
       "Aluminum (pure or alloyed)                                                                                1\n",
       "Copper, silver, molybdenum                                                                                1\n",
       "Copper, molybdenum, silver                                                                                1\n",
       "Rare earth elements                                                                                       1\n",
       "Name: count, dtype: int64"
      ]
     },
     "execution_count": 7,
     "metadata": {},
     "output_type": "execute_result"
    }
   ],
   "source": [
    "bc_cm['Commoditie'].value_counts()"
   ]
  },
  {
   "cell_type": "code",
   "execution_count": 18,
   "metadata": {},
   "outputs": [
    {
     "name": "stdout",
     "output_type": "stream",
     "text": [
      "['OBJECTID: 44', 'OperationG: 3', 'Operatio_1: 3', 'PropertyNa: 44', 'Property_1: 44', 'OperatorOw: 34', 'Operator_1: 34', 'ProvincesE: 1', 'ProvincesF: 1', 'Commoditie: 32', 'Commodit_1: 31', 'Developmen: 5', 'Developm_1: 5', 'ActivitySt: 2', 'Activity_1: 2', 'Latitude: 44', 'Longitude: 44', 'Website: 37', 'ID: 44', 'EA_Status: 1', 'geometry: 44', 'index_right: 5', 'rock_class: 5', 'gid: 5', 'upid: 5', 'area_m2: 5', 'strat_unit: 4', 'era: 3', 'period: 4', 'strat_age: 5', 'strat_name: 4', 'gp_suite: 4', 'fm_lithodm: 5', 'mem_phase: 5', 'rock_type: 4', 'rk_char: 5', 'unit_desc: 4', 'age_max: 5', 'age_min: 5', 'belt: 2', 'terrane: 3', 'basin: 3', 'basin_age: 3', 'project: 2', 'src_url: 2', 'src_ref_s: 2', 'map_comp: 2', 'edit_date: 1', 'pub_org: 1']\n"
     ]
    }
   ],
   "source": [
    "\n",
    "print([f'{col}: {len(bc_cm[col].unique())}' for col in bc_cm.columns])"
   ]
  },
  {
   "cell_type": "code",
   "execution_count": null,
   "metadata": {},
   "outputs": [],
   "source": []
  }
 ],
 "metadata": {
  "kernelspec": {
   "display_name": "techtreasure",
   "language": "python",
   "name": "python3"
  },
  "language_info": {
   "codemirror_mode": {
    "name": "ipython",
    "version": 3
   },
   "file_extension": ".py",
   "mimetype": "text/x-python",
   "name": "python",
   "nbconvert_exporter": "python",
   "pygments_lexer": "ipython3",
   "version": "3.9.19"
  }
 },
 "nbformat": 4,
 "nbformat_minor": 2
}
