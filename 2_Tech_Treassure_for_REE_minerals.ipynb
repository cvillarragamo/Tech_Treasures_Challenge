{
 "cells": [
  {
   "cell_type": "markdown",
   "metadata": {},
   "source": [
    "# Table of Contents\n",
    "| Section                      | Subsections                |\n",
    "|-------------------------------|----------------------------|\n",
    "| [Exploratory Data Analysis](#exploratory-data-analysis) | [Data Cleaning](#data-cleaning), [Data Visualization](#data-visualization) |\n",
    "| [Feature Engineering](#feature-engineering) | [Creating New Features](#creating-new-features), [Transformations](#transformations) |"
   ]
  },
  {
   "cell_type": "markdown",
   "metadata": {},
   "source": [
    "## Exploratory Data Analysis"
   ]
  },
  {
   "cell_type": "markdown",
   "metadata": {},
   "source": [
    "## Feature Engineering"
   ]
  },
  {
   "cell_type": "code",
   "execution_count": null,
   "metadata": {},
   "outputs": [],
   "source": []
  }
 ],
 "metadata": {
  "language_info": {
   "name": "python"
  }
 },
 "nbformat": 4,
 "nbformat_minor": 2
}
