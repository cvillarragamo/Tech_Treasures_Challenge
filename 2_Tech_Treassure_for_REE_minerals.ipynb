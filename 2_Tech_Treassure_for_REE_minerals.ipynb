{
 "cells": [
  {
   "cell_type": "markdown",
   "metadata": {},
   "source": [
    "# Table of Contents\n",
    "| Section                      | Subsections                |\n",
    "|-------------------------------|----------------------------|\n",
    "| [Exploratory Data Analysis](#exploratory-data-analysis) | [Data Cleaning](#data-cleaning), [Data Visualization](#data-visualization) |\n",
    "| [Feature Engineering](#feature-engineering) | [Creating New Features](#creating-new-features), [Transformations](#transformations) |"
   ]
  },
  {
   "cell_type": "markdown",
   "metadata": {},
   "source": [
    "## Introduction\n",
    "\n",
    "Critical minerals are crucial for technologies that drive global energy, security, and economic systems. This exploratory analysis will focus on Rare Earth Elements (REEs), highlighting their unique and essential properties. Here are some key points to consider:\n",
    "\n",
    "- The concentration of REE production primarily in China ([figure 1](https://unctad.org/publication/digital-economy-report-2024)) exposes global supply chains to geopolitical and logistical vulnerabilities, underscoring the need for diversified supply sources [[INN](https://investingnews.com/rare-earths-forecast/)].\n",
    "\n",
    "- According to the IEA’s Global Critical Minerals Outlook, the major concern in the rare earths sector is not the demand-supply gap but the high geographical concentration of mining and refining activities. This concentration significantly heightens the risk of supply disruptions in the market [[INN](https://investingnews.com/rare-earths-forecast/)].\n",
    "\n",
    "- Strategically, governments are increasingly viewing REEs as critical minerals, prompting investments across the exploration, extraction, and processing stages of the rare earth supply chain [[MN](https://www.miningnewswire.com/three-key-trends-that-could-impact-rare-earths-in-2024/)]. "
   ]
  },
  {
   "cell_type": "markdown",
   "metadata": {},
   "source": [
    "## Exploratory Data Analysis"
   ]
  },
  {
   "cell_type": "markdown",
   "metadata": {},
   "source": [
    "_Deposit has dimensions of approximately 400 m north-south by 100-250 m east-west._\n",
    "importante para justificar el tamanho del buffer y de la resolution de rasters\n"
   ]
  },
  {
   "cell_type": "markdown",
   "metadata": {},
   "source": [
    "Zonal statistics in buffers (prospective points in CM dataset)"
   ]
  },
  {
   "cell_type": "markdown",
   "metadata": {},
   "source": [
    "## Feature Engineering"
   ]
  },
  {
   "cell_type": "markdown",
   "metadata": {},
   "source": []
  },
  {
   "cell_type": "code",
   "execution_count": null,
   "metadata": {},
   "outputs": [],
   "source": []
  }
 ],
 "metadata": {
  "language_info": {
   "name": "python"
  }
 },
 "nbformat": 4,
 "nbformat_minor": 2
}
